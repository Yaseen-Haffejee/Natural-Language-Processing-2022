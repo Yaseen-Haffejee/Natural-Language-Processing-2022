{
 "cells": [
  {
   "cell_type": "code",
   "execution_count": 1,
   "metadata": {},
   "outputs": [],
   "source": [
    "import numpy as np\n",
    "from nltk import ngrams,FreqDist"
   ]
  },
  {
   "cell_type": "code",
   "execution_count": 2,
   "metadata": {},
   "outputs": [],
   "source": [
    "sentences = [\"<s> I am Sam </s>\",\n",
    "\"<s> Sam I am </s>\",\n",
    "\"<s> I am Sam </s>\",\n",
    "\"<s> I do not like green eggs and Sam </s>\"]"
   ]
  },
  {
   "cell_type": "code",
   "execution_count": 9,
   "metadata": {},
   "outputs": [],
   "source": [
    "def get_unique(sentences,unique=True):\n",
    "    if(unique):\n",
    "        unique_ngrams = set()\n",
    "    else:\n",
    "        unique_ngrams = []\n",
    "\n",
    "    for s in sentences:\n",
    "        a = ngrams(s.split(\" \"), 2)\n",
    "        for w in a:\n",
    "            if(unique):\n",
    "                unique_ngrams.add(w)\n",
    "            else:\n",
    "                unique_ngrams.append(w)\n",
    "    \n",
    "    return unique_ngrams"
   ]
  },
  {
   "cell_type": "code",
   "execution_count": 10,
   "metadata": {},
   "outputs": [
    {
     "data": {
      "text/plain": [
       "{('<s>', 'I'),\n",
       " ('<s>', 'Sam'),\n",
       " ('I', 'am'),\n",
       " ('I', 'do'),\n",
       " ('Sam', '</s>'),\n",
       " ('Sam', 'I'),\n",
       " ('am', '</s>'),\n",
       " ('am', 'Sam'),\n",
       " ('and', 'Sam'),\n",
       " ('do', 'not'),\n",
       " ('eggs', 'and'),\n",
       " ('green', 'eggs'),\n",
       " ('like', 'green'),\n",
       " ('not', 'like')}"
      ]
     },
     "execution_count": 10,
     "metadata": {},
     "output_type": "execute_result"
    }
   ],
   "source": [
    "get_unique(sentences)"
   ]
  },
  {
   "cell_type": "code",
   "execution_count": 12,
   "metadata": {},
   "outputs": [],
   "source": [
    "a = [\"<s> Peter Piper picked a peck of pickled pepper. </s>\",\n",
    "\n",
    "\"<s> Where's the pickled pepper that Peter Piper picked? </s>\"]\n",
    "u = get_unique(a,False)"
   ]
  },
  {
   "cell_type": "code",
   "execution_count": 14,
   "metadata": {},
   "outputs": [
    {
     "name": "stdout",
     "output_type": "stream",
     "text": [
      "('<s>', 'Peter') 1\n",
      "('Peter', 'Piper') 2\n",
      "('Piper', 'picked') 1\n",
      "('picked', 'a') 1\n",
      "('a', 'peck') 1\n",
      "('peck', 'of') 1\n",
      "('of', 'pickled') 1\n",
      "('pickled', 'pepper.') 1\n",
      "('pepper.', '</s>') 1\n",
      "('<s>', \"Where's\") 1\n",
      "(\"Where's\", 'the') 1\n",
      "('the', 'pickled') 1\n",
      "('pickled', 'pepper') 1\n",
      "('pepper', 'that') 1\n",
      "('that', 'Peter') 1\n",
      "('Piper', 'picked?') 1\n",
      "('picked?', '</s>') 1\n"
     ]
    }
   ],
   "source": [
    "dist = FreqDist(u)\n",
    "\n",
    "for key,value in dist.items():\n",
    "    print(key,value)"
   ]
  },
  {
   "cell_type": "code",
   "execution_count": 19,
   "metadata": {},
   "outputs": [],
   "source": [
    "f = ngrams(\"<s> Peter Piper picked a peck of pickled pepper that Peter Piper picked </s>\".split(),2)"
   ]
  },
  {
   "cell_type": "code",
   "execution_count": 20,
   "metadata": {},
   "outputs": [
    {
     "name": "stdout",
     "output_type": "stream",
     "text": [
      "('<s>', 'Peter')\n",
      "('Peter', 'Piper')\n",
      "('Piper', 'picked')\n",
      "('picked', 'a')\n",
      "('a', 'peck')\n",
      "('peck', 'of')\n",
      "('of', 'pickled')\n",
      "('pickled', 'pepper')\n",
      "('pepper', 'that')\n",
      "('that', 'Peter')\n",
      "('Peter', 'Piper')\n",
      "('Piper', 'picked')\n",
      "('picked', '</s>')\n"
     ]
    }
   ],
   "source": [
    "for t in f:\n",
    "    print(t)"
   ]
  },
  {
   "cell_type": "code",
   "execution_count": null,
   "metadata": {},
   "outputs": [],
   "source": []
  }
 ],
 "metadata": {
  "kernelspec": {
   "display_name": "Python 3.9.13 ('NLP')",
   "language": "python",
   "name": "python3"
  },
  "language_info": {
   "codemirror_mode": {
    "name": "ipython",
    "version": 3
   },
   "file_extension": ".py",
   "mimetype": "text/x-python",
   "name": "python",
   "nbconvert_exporter": "python",
   "pygments_lexer": "ipython3",
   "version": "3.9.13"
  },
  "orig_nbformat": 4,
  "vscode": {
   "interpreter": {
    "hash": "d2af9183f1518e5b7e9d321053af756667ae69187df0ee0edf15440703f50b25"
   }
  }
 },
 "nbformat": 4,
 "nbformat_minor": 2
}
