{
 "cells": [
  {
   "cell_type": "markdown",
   "metadata": {},
   "source": [
    "# Yaseen Haffejee: 1827555 \n",
    "# Spam Classification Using Naive Bayes"
   ]
  },
  {
   "cell_type": "markdown",
   "metadata": {},
   "source": [
    "# Importing Libraries "
   ]
  },
  {
   "cell_type": "code",
   "execution_count": 1,
   "metadata": {},
   "outputs": [],
   "source": [
    "from sklearn import naive_bayes\n",
    "import numpy as np\n",
    "import pandas as pd"
   ]
  },
  {
   "cell_type": "markdown",
   "metadata": {},
   "source": [
    "# Tasks"
   ]
  },
  {
   "cell_type": "markdown",
   "metadata": {},
   "source": [
    "## Task 1\n",
    "\n",
    "### 1. Preprocess the data, tokenize the text, and get a list of words for each sentence."
   ]
  },
  {
   "cell_type": "code",
   "execution_count": 2,
   "metadata": {},
   "outputs": [],
   "source": [
    "train = pd.read_csv(\"./project_1_data/train.csv\")"
   ]
  },
  {
   "cell_type": "code",
   "execution_count": 3,
   "metadata": {},
   "outputs": [
    {
     "data": {
      "text/plain": [
       "0    Subject: thank you\\r\\nami and daren , , , ,\\r\\...\n",
       "1    Subject: spot or firm tickets\\r\\nvance ,\\r\\nth...\n",
       "2    Subject: software\\r\\nmicrosoft windows xp prof...\n",
       "3    Subject: noms / actual flow for 2 / 27\\r\\nwe a...\n",
       "4    Subject: superb so . ftware\\r\\nyoull discover ...\n",
       "5    Subject: hpl nomination changes for july 25 an...\n",
       "6    Subject: dear customer your details have been ...\n",
       "7    Subject: woww . . 8 o - % off abazis\\r\\nthe lo...\n",
       "8    Subject: 3 / 1 / 2000 noms\\r\\neffective 3 / 1 ...\n",
       "9    Subject: hl & p\\r\\ndaren - also , the deal mig...\n",
       "Name: text, dtype: object"
      ]
     },
     "execution_count": 3,
     "metadata": {},
     "output_type": "execute_result"
    }
   ],
   "source": [
    "train.head(10)['text']"
   ]
  },
  {
   "cell_type": "markdown",
   "metadata": {},
   "source": [
    "- We can see that every new line is denoted by a '\\r\\n' combination. We can thus replace these with a space.\n",
    "- For standardisation, we will convert all emails into lowercase."
   ]
  },
  {
   "cell_type": "code",
   "execution_count": 4,
   "metadata": {},
   "outputs": [
    {
     "data": {
      "text/plain": [
       "\"Subject: woww . . 8 o - % off abazis\\r\\nthe lowest price of all med ' s is here .\\r\\n* xa - nax ( $ 154 only )\\r\\n* via - gra ( $ 57 only )\\r\\n* vaiium ( $ 154 only )\\r\\n* cia - | is ( $ 135 only )\\r\\n* tramadol ( $ 99 only )\\r\\nwe are the be - st available nowadays\\r\\nree movee below :\\r\\nhttp : / / www . takemeout . negotiator 6 seq . us\\r\\nj 5 eilw 5 kryf 8 u 3 haz 2 hqothwu 0 johr 6 o 5 zykfe\\r\\n\""
      ]
     },
     "execution_count": 4,
     "metadata": {},
     "output_type": "execute_result"
    }
   ],
   "source": [
    "train.text[7]"
   ]
  },
  {
   "cell_type": "code",
   "execution_count": 5,
   "metadata": {},
   "outputs": [
    {
     "data": {
      "text/plain": [
       "\"Subject: cleburne issues\\r\\ndaren , with megan gone i just wanted to touch base with you on the status of the enron payments owed to the cleburne plant . the current issues are as follows :\\r\\nnovember gas sales $ 600 , 377 . 50\\r\\noctober payment to ena for txu pipeline charges $ 108 , 405 . 00\\r\\ncleburne receivable from enron $ 708 , 782 . 50\\r\\nless : november gas agency fees ( $ 54 , 000 . 00 )\\r\\nnet cleburne receivable from enron $ 654 , 782 . 50\\r\\nper my discussions with megan , she stated that about $ 500 k of the $ 600 k nov gas sales was intercompany ( desk to desk ) sales , with the remainder from txu . are we able to settle any intercompany deals now ? are we able to settle with txu ?\\r\\nadditionally , you ' ll see that i included the oct txu payment in the receivable owed to cleburne also . this is because i always pay megan based upon the pipeline estimates in michael ' s file , even though they are not finalized until the next month . therefore in my november payment to enron , i paid ena for october ' s estimate , of which megan would have paid the final bill on 12 / 26 / 01 when it was finalized . however , i had to pay the october bill directly last month , even though i had already sent the funds to ena in november . therefore , i essentially paid this bill twice ( once to ena in nov & once to txu in dec ) . i deducted the november agency fees from these receivable totals to show the net amount owed to cleburne .\\r\\nplease advise as to the status of these bills . you can reach me at 713 - 853 - 7280 . thanks .\\r\\njames\""
      ]
     },
     "execution_count": 5,
     "metadata": {},
     "output_type": "execute_result"
    }
   ],
   "source": [
    "train.text[15]\n"
   ]
  },
  {
   "cell_type": "code",
   "execution_count": 6,
   "metadata": {},
   "outputs": [
    {
     "data": {
      "text/plain": [
       "1"
      ]
     },
     "execution_count": 6,
     "metadata": {},
     "output_type": "execute_result"
    }
   ],
   "source": [
    "train.label[30]\n"
   ]
  },
  {
   "cell_type": "code",
   "execution_count": null,
   "metadata": {},
   "outputs": [],
   "source": []
  }
 ],
 "metadata": {
  "kernelspec": {
   "display_name": "Python 3.9.12 ('base')",
   "language": "python",
   "name": "python3"
  },
  "language_info": {
   "codemirror_mode": {
    "name": "ipython",
    "version": 3
   },
   "file_extension": ".py",
   "mimetype": "text/x-python",
   "name": "python",
   "nbconvert_exporter": "python",
   "pygments_lexer": "ipython3",
   "version": "3.9.12"
  },
  "orig_nbformat": 4,
  "vscode": {
   "interpreter": {
    "hash": "ad2bdc8ecc057115af97d19610ffacc2b4e99fae6737bb82f5d7fb13d2f2c186"
   }
  }
 },
 "nbformat": 4,
 "nbformat_minor": 2
}
